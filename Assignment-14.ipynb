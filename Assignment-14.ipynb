{
 "cells": [
  {
   "cell_type": "code",
   "execution_count": 1,
   "id": "9068a8b1-eebf-4ce1-a827-3cf429110471",
   "metadata": {},
   "outputs": [],
   "source": [
    "#q1)\n",
    "#An API (Application Programming Interface) is a set of rules that allows different software applications to communicate and interact with each other.\n",
    "#In real life, APIs are used in social media platforms like Facebook for features such as social login, content sharing, user information retrieval, \n",
    "#and advertising."
   ]
  },
  {
   "cell_type": "code",
   "execution_count": 2,
   "id": "c491a230-6c09-43c6-845e-764b08bb8760",
   "metadata": {},
   "outputs": [],
   "source": [
    "#q2)\n",
    "#Advantages of using APIs:\n",
    "\n",
    "#Improved Efficiency: APIs streamline development and leverage existing functionalities.\n",
    "#Enhanced Functionality: APIs enable integration of advanced features and external services.\n",
    "\n",
    "#Disadvantages of using APIs:\n",
    "\n",
    "#Dependency and Reliability: Applications are reliant on the availability and performance of external APIs.\n",
    "#Security Risks: APIs introduce potential vulnerabilities and require careful implementation of security measures."
   ]
  },
  {
   "cell_type": "code",
   "execution_count": 3,
   "id": "bee027ca-4993-4f59-a17c-743a0ee51e09",
   "metadata": {},
   "outputs": [],
   "source": [
    "#q3)\n",
    "#A Web API is a specific type of API designed for communication over the web using the HTTP protocol. It provides endpoints for accessing and manipulating resources on a server.\n",
    "#APIs can encompass a broader range of interfaces beyond the web, including interfaces for databases, operating systems, and more.\n",
    "#Web APIs specifically focus on web-based applications, utilize HTTP, and expose resources for client interactions."
   ]
  },
  {
   "cell_type": "code",
   "execution_count": null,
   "id": "cfe075a9-d94c-4dcd-b9ff-679bd144100e",
   "metadata": {},
   "outputs": [],
   "source": [
    "#q4)\n"
   ]
  }
 ],
 "metadata": {
  "kernelspec": {
   "display_name": "Python 3 (ipykernel)",
   "language": "python",
   "name": "python3"
  },
  "language_info": {
   "codemirror_mode": {
    "name": "ipython",
    "version": 3
   },
   "file_extension": ".py",
   "mimetype": "text/x-python",
   "name": "python",
   "nbconvert_exporter": "python",
   "pygments_lexer": "ipython3",
   "version": "3.10.8"
  }
 },
 "nbformat": 4,
 "nbformat_minor": 5
}
